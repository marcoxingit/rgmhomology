{
 "cells": [
  {
   "cell_type": "code",
   "execution_count": 1,
   "metadata": {},
   "outputs": [],
   "source": [
    "%load_ext autoreload\n",
    "%autoreload 2"
   ]
  },
  {
   "cell_type": "code",
   "execution_count": 2,
   "metadata": {},
   "outputs": [
    {
     "name": "stderr",
     "output_type": "stream",
     "text": [
      "/home/tverbele/Code/python/rgm/.venv/lib/python3.11/site-packages/glfw/__init__.py:914: GLFWError: (65544) b'X11: The DISPLAY environment variable is missing'\n",
      "  warnings.warn(message, GLFWError)\n"
     ]
    }
   ],
   "source": [
    "import jax\n",
    "import jax.numpy as jnp\n",
    "from jax.experimental import sparse\n",
    "\n",
    "from rgm import *\n",
    "from atari.common import *"
   ]
  },
  {
   "cell_type": "code",
   "execution_count": 3,
   "metadata": {},
   "outputs": [],
   "source": [
    "env = make_game(game_config(\"Breakout\", ObservationType.MINI))"
   ]
  },
  {
   "cell_type": "code",
   "execution_count": 4,
   "metadata": {},
   "outputs": [],
   "source": [
    "@jax.jit\n",
    "def to_one_hot(o):\n",
    "    \"\"\"\n",
    "    Convert observation of  10 x 10 x n to 100 x n+1\n",
    "    where we add channel for zero (background) values \n",
    "    \"\"\"\n",
    "    zero_mask = jnp.sum(o, axis=-1, keepdims=-1) == 0\n",
    "    arr = jnp.concatenate([o, zero_mask], axis=-1).astype(jnp.float32)\n",
    "    arr = arr.reshape(-1, arr.shape[-1])\n",
    "    return arr"
   ]
  },
  {
   "cell_type": "code",
   "execution_count": 5,
   "metadata": {},
   "outputs": [],
   "source": [
    "import seaborn as sns\n",
    "from matplotlib import colors\n",
    "\n",
    "\n",
    "def render(observation):\n",
    "    cmap = sns.color_palette(\"cubehelix\", observation.shape[-1])\n",
    "    cmap.insert(0, (0, 0, 0))\n",
    "    cmap = colors.ListedColormap(cmap)\n",
    "    bounds = [i for i in range(observation.shape[-1] + 2)]\n",
    "    norm = colors.BoundaryNorm(bounds, observation.shape[-1] + 1)\n",
    "    numerical_state = jnp.amax(observation * jnp.reshape(jnp.arange(observation.shape[-1]) + 1, (1, 1, -1)), 2) + 0.5\n",
    "    img = cmap(norm(numerical_state))\n",
    "    return img[:, :, :3]"
   ]
  },
  {
   "cell_type": "code",
   "execution_count": 6,
   "metadata": {},
   "outputs": [
    {
     "name": "stderr",
     "output_type": "stream",
     "text": [
      "WARNING:jax._src.xla_bridge:An NVIDIA GPU may be present on this machine, but a CUDA-enabled jaxlib is not installed. Falling back to cpu.\n",
      "100%|██████████| 100/100 [00:36<00:00,  2.73it/s]\n"
     ]
    }
   ],
   "source": [
    "from tqdm import tqdm\n",
    "\n",
    "max_steps = 100\n",
    "\n",
    "# store for inspecting / visualizing later\n",
    "actions = []\n",
    "observations = []\n",
    "rewards = []\n",
    "\n",
    "obs, info = env.reset()\n",
    "ogm = OGM(size=(obs.shape[0],obs.shape[1]), \n",
    "          n_bins=obs.shape[2] + 1, \n",
    "          n_actions=env.action_space.n)\n",
    "\n",
    "\n",
    "with tqdm(total=max_steps) as pbar:\n",
    "    step = 0\n",
    "    while step < max_steps:\n",
    "\n",
    "        done = False\n",
    "        obs, info = env.reset()\n",
    "        while not done:\n",
    "            step += 1\n",
    "         \n",
    "            action = env.action_space.sample()\n",
    "            next_obs, reward, done, trunc, info = env.step(action)\n",
    "\n",
    "            ogm.update_pB(to_one_hot(obs), to_one_hot(next_obs), action, reward)\n",
    "\n",
    "            actions.append(action)\n",
    "            observations.append(obs)\n",
    "            rewards.append(reward)\n",
    "            obs = next_obs\n",
    "\n",
    "            pbar.update(1)\n",
    "\n",
    "            if done:\n",
    "                obs, info = env.reset()\n",
    "\n",
    "            if step == max_steps:\n",
    "                break"
   ]
  },
  {
   "cell_type": "code",
   "execution_count": 7,
   "metadata": {},
   "outputs": [
    {
     "data": {
      "text/html": [
       "<table class=\"show_videos\" style=\"border-spacing:0px;\"><tr><td style=\"padding:1px;\"><div style=\"display:flex; align-items:left;\">\n",
       "      <div style=\"display:flex; flex-direction:column; align-items:center;\">\n",
       "      <div>observations</div><div><img width=\"320\" height=\"320\" style=\"image-rendering:pixelated; object-fit:cover;\" src=\"data:image/gif;base64,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\"/></div></div></div></td></tr></table>"
      ],
      "text/plain": [
       "<IPython.core.display.HTML object>"
      ]
     },
     "metadata": {},
     "output_type": "display_data"
    }
   ],
   "source": [
    "import mediapy\n",
    "\n",
    "with mediapy.set_show_save_dir(\"/tmp\"):\n",
    "    mediapy.show_videos({\"observations\": [render(o) for o in observations]}, width=320, height=320, fps=10, codec=\"gif\")"
   ]
  },
  {
   "cell_type": "code",
   "execution_count": 8,
   "metadata": {},
   "outputs": [],
   "source": [
    "ogm.update_B()"
   ]
  },
  {
   "cell_type": "code",
   "execution_count": 9,
   "metadata": {},
   "outputs": [],
   "source": [
    "p = ogm.predict(to_one_hot(observations[10]), 0)"
   ]
  },
  {
   "cell_type": "code",
   "execution_count": 10,
   "metadata": {},
   "outputs": [
    {
     "data": {
      "text/plain": [
       "<matplotlib.image.AxesImage at 0x7fd834703e10>"
      ]
     },
     "execution_count": 10,
     "metadata": {},
     "output_type": "execute_result"
    },
    {
     "data": {
      "image/png": "[encoded data removed]",
      "text/plain": [
       "<Figure size 640x480 with 1 Axes>"
      ]
     },
     "metadata": {},
     "output_type": "display_data"
    }
   ],
   "source": [
    "import matplotlib.pyplot as plt\n",
    "\n",
    "plt.imshow(render(p.reshape(10, 10, ogm.n_bins)[:, :, :observations[0].shape[-1]]))"
   ]
  },
  {
   "cell_type": "code",
   "execution_count": 13,
   "metadata": {},
   "outputs": [],
   "source": [
    "noop = ogm.rollout(to_one_hot(observations[0]), jnp.array([0, 0, 0, 0]))\n",
    "left = ogm.rollout(to_one_hot(observations[0]), jnp.array([1, 1, 1, 1]))\n",
    "right = ogm.rollout(to_one_hot(observations[0]), jnp.array([2, 2, 2, 2]))"
   ]
  },
  {
   "cell_type": "code",
   "execution_count": 14,
   "metadata": {},
   "outputs": [
    {
     "data": {
      "text/html": [
       "<table class=\"show_videos\" style=\"border-spacing:0px;\"><tr><td style=\"padding:1px;\"><div style=\"display:flex; align-items:left;\">\n",
       "      <div style=\"display:flex; flex-direction:column; align-items:center;\">\n",
       "      <div>noop</div><div><img width=\"320\" height=\"320\" style=\"image-rendering:pixelated; object-fit:cover;\" src=\"data:image/gif;base64,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\"/></div></div></div></td><td style=\"padding:1px;\"><div style=\"display:flex; align-items:left;\">\n",
       "      <div style=\"display:flex; flex-direction:column; align-items:center;\">\n",
       "      <div>left</div><div><img width=\"320\" height=\"320\" style=\"image-rendering:pixelated; object-fit:cover;\" src=\"data:image/gif;base64,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\"/></div></div></div></td><td style=\"padding:1px;\"><div style=\"display:flex; align-items:left;\">\n",
       "      <div style=\"display:flex; flex-direction:column; align-items:center;\">\n",
       "      <div>right</div><div><img width=\"320\" height=\"320\" style=\"image-rendering:pixelated; object-fit:cover;\" src=\"data:image/gif;base64,R0lGODlhAAEAAfcBAAAAAAD/ABU8TVN5LsHK889+ks9+ks9+ks9+ks9+ks9+ks9+ks9+ks9+ks9+ks9+ks9+ks9+ks9+ks9+ks9+ks9+ks9+ks9+ks9+ks9+ks9+ks9+ks9+ks9+ks9+ks9+ks9+ks9+ks9+ks9+ks9+ks9+ks9+ks9+ks9+ks9+ks9+ks9+ks9+ks9+ks9+ks9+ks9+ks9+ks9+ks9+ks9+ks9+ks9+ks9+ks9+ks9+ks9+ks9+ks9+ks9+ks9+ks9+ks9+ks9+ks9+ks9+ks9+ks9+ks9+ks9+ks9+ks9+ks9+ks9+ks9+ks9+ks9+ks9+ks9+ks9+ks9+ks9+ks9+ks9+ks9+ks9+ks9+ks9+ks9+ks9+ks9+ks9+ks9+ks9+ks9+ks9+ks9+ks9+ks9+ks9+ks9+ks9+ks9+ks9+ks9+ks9+ks9+ks9+ks9+ks9+ks9+ks9+ks9+ks9+ks9+ks9+ks9+ks9+ks9+ks9+ks9+ks9+ks9+ks9+ks9+ks9+ks9+ks9+ks9+ks9+ks9+ks9+ks9+ks9+ks9+ks9+ks9+ks9+ks9+ks9+ks9+ks9+ks9+ks9+ks9+ks9+ks9+ks9+ks9+ks9+ks9+ks9+ks9+ks9+ks9+ks9+ks9+ks9+ks9+ks9+ks9+ks9+ks9+ks9+ks9+ks9+ks9+ks9+ks9+ks9+ks9+ks9+ks9+ks9+ks9+ks9+ks9+ks9+ks9+ks9+ks9+ks9+ks9+ks9+ks9+ks9+ks9+ks9+ks9+ks9+ks9+ks9+ks9+ks9+ks9+ks9+ks9+ks9+ks9+ks9+ks9+ks9+ks9+ks9+ks9+ks9+ks9+ks9+ks9+ks9+ks9+ks9+ks9+ks9+ks9+ks9+ks9+ks9+ks9+ks9+ks9+ks9+ks9+ks9+ks9+ks9+ks9+ks9+ks9+ks9+ks9+ks9+ks9+ks9+ks9+ks9+ks9+ks9+ks9+ks9+ks9+ks9+ks9+ks9+ks9+ks9+ks9+ks9+ks9+ks9+ks9+ks9+ks9+ks9+kiH/C05FVFNDQVBFMi4wAwEAAAAh+QQFMgABACwAAAAAAAEAAYIAAAAA/wAVPE1TeS7ByvPPfpL///////8I/wABCBxIsKDBgwgTKlzIsKHDhxAjSpxIsaLFixgzatzIsaPHjyBDihxJsqTJkyhTqlzJsqXLlzBjypxJs6bNmzhz6tzJs6fPn0CDCh1KtKjRo0iTKl3KtKnTp1CjSp1KtarVq1izat3KtavXr2DDih1LtqzZs2jTql3Ltq3bt3Djyi1LoK7du3jz6t3Lt6/fv4ADCx5MuLDhw4gTK17MuLHjx5AjS55MubLly5gza97MubPnz6BDix5NurTp06hTq17NurXr17Bjy55Nu7bt27hz697Nu7fv38CDCx9OvLjx48iTK1/OvLnz59CjS59Ovbr169iza9/Ovbv37+DDi/8fT768+fPo06tfz769+/fw48ufT7++/fv48+vfz7+///8ABijggAQWaOCBCCao4IIMNujggxBGKOGEFFZo4YUYZqjhhhx26OGHIIYo4ogklmjiiSimqOKKLLbo4oswxijjjDTWaOONCc6l1QA89ujjj0D6qONcQRZp5ABDynXkkkImCReTUDr5JJRLSvkWlVVa2RaWR2q5JZdFeskWmGGKqRaZQZp5Jpo/qpkWm226eRacTcpZFp092mkWnjzqeSeffpLFJ5KBijVooYYCiihYhy76VaOOdgVppFtNSmlWll56VaaaVsVpp6CGKuqopJZq6qmopqrqqqy26uqrsMboKuustNZq66245qrrrrz26uuvwAYr7LDEFmvsscgmq+yyzDbr7LPQRivttNRWa+212Gar7bbcduvtt+CGK+645JZr7rnopqvuuuy26+678MYr77z01mvvvfjmq+++/Pbr778AByzwwAQXbPDBCCes8MIMN+zwwxBHLPHEFFds8cUYZ6zxxhx37PFUAoQs8sgkl0wyvianrHLIKK/s8sgtv/xyzDKvTHPNKd+Mc8k67wzzvT6r3HPQAgwdtNE+I72z0jgzXbPTMkM9M9BE80x11T/bi/XJV29ddNdbS+2y2DaDjTXZQpcVEAAh+QQFMgABACyAAGYAZgCaAAAI/wADCBxIsKDBgwgTKly4sIDDhxAjSoTIsKLFixgPTtzIsUDGjyBDDuxIkqLIkygVllyZsqVLgStLvpx5MiZJmjg/2uyYs6fFnRx9ClUJdOLQowaLGkXKNIBSiU2ZPo0YFelUk1WFXn2YdehWh121fg3r86tHsjnNok07di1NtW5nwo3rci7dlHbv1myrF2XeviD/Ah5MuLDhw4gTK17MuLHjx5AjS55MubLly5gza97MubPnz6BDix5NurTp06hTq17NurXr17Bjy55Nu7bt27hz697Nu7fv38CDCx9OvLjx48iTK1/OvLnz59CjS59Ovbr169iza9/Ovbv37+DDi6EfT768WwDo06tfz369gPfw48ufH/9u+/v40dPfz1+A/fwAqtffgPXRFeCBABCo4H8I5qcggQw2eN+DA0YoIXsU9mfhhQJmuN+GHOrnIX0ghjgiiQaGiOGJ8pXIIYstpqhihzC+5+KFNcJ3o4Q52ijjjCLmuGODPfr3I5BFDolgkkfOyGRcQNJYo5IHPnlelEFO2aSKVq6FZZYwUhlgl2gFBAAh+QQFMgABACyaAE0AZgCzAAAI/wADCBxIsKDBgwgTKlyoUIDDhxAjSozIsKLFixgNTtzI0WHGjyBDCuxIkqLIkygTllwpIKXLlwFYloRJU6RMkjVzZrzZUafPijw5/hyqMuhEokgLGj2atOlSiU2dPoUYNelUqlWJXn2YVevWll1/fgUbVufYsj7Pos2pdi3Ntm5fwo2bci7dk3bvhsyr9yPfsGO/6g28dTDhqYYPL02sOCjjxjcfQ2YpefLMu5Z5Vs4sFDNnyp4/X6YreuXm0lhJo+4ZejVT1a5fx4298bRr26txo9Zdmrdo35+BcxaeuW9dwcbxIk++dzlzv86fY/wrvWH06kCvY19IfbtG7d4Rdv8PP3A8+ZjgzxM0T559ePfe4W+Xj51+dfvS8T/Xz5x/cv/GAdiXgMR1pt6BCCao4IIMNujggxBGKOGEFFZo4YUYZqjhhhx26OGHIIYo4ogklmjiiSimqOKKLLbo4oswxijjjDTWaOONOOao44489ujjj0AGKeSQRBZp5JFIJqnkkkw26eSTUKYIwJRUVmnllVUS6BKWXHYJgJYpeSlmlul1NeaZYKJ05phpnrSmmG2K9KaXcYY0Z5d1gnQnl3l+tCeWfWb055WBYjSolYVedCiZhd21KJWJWvTolJFWNOmXZWZ1aaUMbZppVZ42SleoV+lFKmKOTsrpQqc+Zaqqn0YK1epiqT66qkIBAQAh+QQFMgABACyzADMATQDNAAAI/wADCBxIsKDBggISKlzIsKHDhxAbHpxIUWDEixgzMqzIEaHGjyA3dhwZsiTIkSRNqryIsuPKlw9bcoRJc6HMijVz3qSYs+bOiT1p/jwYFOZQg0VfHvWY1ORSgk1VPh0Y1enUAFVLXsWa9eTVrl6ngv24dazGsmYxok0bcS3bmF/fQnQrV6TYunjPxs1rcy/fhHT5Bs47GG/huoflJn67mG3jtI/NRh47GWzlrpezZq66OWrnpp+Thi46Omjpnqd1+v2beuvqla7vCo29VDXtobZv78ytWybv3ih/A3fpc7jv4saDI09OfDbz5kafQ1cqfeby6kSvY2cafXt25965U/8PLx42+fJSz0PVTl54ePfe4W+Xj/1vX9n2U7P/aV+hfvC19SfAf909JeCArxGWoGELItagYg8yFqFjE0JWoWQXUpahZRti1qFmH3IWomcjglaiaCeSlqJp6q3XH4HjGSggjObhx9qKqOFIX0sH0piejYLpuN9uMwoJ4FE9GllggC8qGSOT+TlZo4xNAqmglQxi6aCWEHIpYYtghinmmGSWaeaZaKap5ppstunmm3DGKeecdNZp55145qnnnnz26eefgAYq6KCEFmrooYgmquiijDbq6KOQRirppAMBYOmlmGaqaaZD3rTpp6Ba2qlMoZbK6ZFDmaoqAKO2tKqpraJf9GqpsY40a6i1dnQrqLlytOunvVb066bBUjSspsVOdOypSx61LKbJHvTspdEaNK2oqP50LavZ7rRttQV9262n14JLkLjNplruuKSum6627j7pbLxTLoWuvOpOa+5AAQEAOw==\"/></div></div></div></td></tr></table>"
      ],
      "text/plain": [
       "<IPython.core.display.HTML object>"
      ]
     },
     "metadata": {},
     "output_type": "display_data"
    }
   ],
   "source": [
    "import mediapy\n",
    "from PIL import Image\n",
    "\n",
    "resize = lambda x: jnp.array(Image.fromarray((x * 255).astype(jnp.uint8)).resize((256, 256), Image.NEAREST))\n",
    "imgs = {\n",
    "    \"noop\": [resize(render(p.reshape(10, 10, ogm.n_bins)[:, :, :observations[0].shape[-1]])) for p in noop],\n",
    "    \"left\": [resize(render(p.reshape(10, 10, ogm.n_bins)[:, :, :observations[0].shape[-1]])) for p in left],\n",
    "    \"right\": [resize(render(p.reshape(10, 10, ogm.n_bins)[:, :, :observations[0].shape[-1]])) for p in right],\n",
    "}\n",
    "\n",
    "with mediapy.set_show_save_dir(\"/tmp\"):\n",
    "    mediapy.show_videos(\n",
    "        imgs,\n",
    "        width=320,\n",
    "        height=320,\n",
    "        fps=2,\n",
    "        codec=\"gif\",\n",
    "    )"
   ]
  },
  {
   "cell_type": "code",
   "execution_count": null,
   "metadata": {},
   "outputs": [],
   "source": []
  }
 ],
 "metadata": {
  "kernelspec": {
   "display_name": ".venv",
   "language": "python",
   "name": "python3"
  },
  "language_info": {
   "codemirror_mode": {
    "name": "ipython",
    "version": 3
   },
   "file_extension": ".py",
   "mimetype": "text/x-python",
   "name": "python",
   "nbconvert_exporter": "python",
   "pygments_lexer": "ipython3",
   "version": "3.11.8"
  }
 },
 "nbformat": 4,
 "nbformat_minor": 2
}

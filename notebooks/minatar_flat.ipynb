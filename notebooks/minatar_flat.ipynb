{
 "cells": [
  {
   "cell_type": "code",
   "execution_count": 1,
   "metadata": {},
   "outputs": [],
   "source": [
    "%load_ext autoreload\n",
    "%autoreload 2"
   ]
  },
  {
   "cell_type": "code",
   "execution_count": 2,
   "metadata": {},
   "outputs": [],
   "source": [
    "import jax.numpy as jnp\n",
    "\n",
    "from rgm import *\n",
    "from atari.common import *"
   ]
  },
  {
   "cell_type": "code",
   "execution_count": 3,
   "metadata": {},
   "outputs": [],
   "source": [
    "env = make_game(EnvConfig(\"Breakout\", ObservationType.MINI))"
   ]
  },
  {
   "cell_type": "code",
   "execution_count": 4,
   "metadata": {},
   "outputs": [
    {
     "data": {
      "text/plain": [
       "3"
      ]
     },
     "execution_count": 4,
     "metadata": {},
     "output_type": "execute_result"
    }
   ],
   "source": [
    "env.action_space.n"
   ]
  },
  {
   "cell_type": "code",
   "execution_count": 5,
   "metadata": {},
   "outputs": [
    {
     "name": "stderr",
     "output_type": "stream",
     "text": [
      "100%|██████████| 1/1 [00:00<00:00, 659.59it/s]\n",
      "An NVIDIA GPU may be present on this machine, but a CUDA-enabled jaxlib is not installed. Falling back to cpu.\n"
     ]
    }
   ],
   "source": [
    "from tqdm import tqdm\n",
    "\n",
    "observations = []\n",
    "actions = []\n",
    "rewards = []\n",
    "\n",
    "num_episodes = 1\n",
    "horizon = 128\n",
    "\n",
    "for n in tqdm(range(num_episodes)):\n",
    "    acs = []\n",
    "    os = []\n",
    "    rs = []\n",
    "\n",
    "\n",
    "    obs, info = env.reset()\n",
    "    for i in range(horizon):\n",
    "        action = env.action_space.sample()\n",
    "        next_obs, reward, done, trunc, info  = env.step(action)\n",
    "\n",
    "        acs.append([action])\n",
    "        os.append(obs)\n",
    "        rs.append(reward)\n",
    "        obs = next_obs\n",
    "\n",
    "        if done:\n",
    "            obs, info = env.reset()\n",
    "      \n",
    "    observations.append(os)\n",
    "    actions.append(acs)\n",
    "    rewards.append(rs)\n",
    "\n",
    "observations = jnp.asarray(observations, dtype=jnp.float32)\n",
    "actions = jnp.asarray(actions)\n",
    "rewards = jnp.asarray(rewards)"
   ]
  },
  {
   "cell_type": "code",
   "execution_count": 6,
   "metadata": {},
   "outputs": [
    {
     "data": {
      "text/plain": [
       "(1, 128, 10, 10, 4)"
      ]
     },
     "execution_count": 6,
     "metadata": {},
     "output_type": "execute_result"
    }
   ],
   "source": [
    "observations.shape"
   ]
  },
  {
   "cell_type": "code",
   "execution_count": 7,
   "metadata": {},
   "outputs": [],
   "source": [
    "import numpy as np\n",
    "import seaborn as sns\n",
    "from matplotlib import colors\n",
    "\n",
    "def render(observation):\n",
    "    cmap = sns.color_palette(\"cubehelix\", observation.shape[-1])\n",
    "    cmap.insert(0, (0, 0, 0))\n",
    "    cmap = colors.ListedColormap(cmap)\n",
    "    bounds = [i for i in range(observation.shape[-1] + 2)]\n",
    "    norm = colors.BoundaryNorm(bounds, observation.shape[-1] + 1)\n",
    "    numerical_state = np.amax(observation * np.reshape(np.arange(observation.shape[-1]) + 1, (1, 1, -1)), 2) + 0.5\n",
    "    img = cmap(norm(numerical_state))\n",
    "    return img[:, :, :3]"
   ]
  },
  {
   "cell_type": "code",
   "execution_count": 8,
   "metadata": {},
   "outputs": [
    {
     "data": {
      "text/html": [
       "<table class=\"show_videos\" style=\"border-spacing:0px;\"><tr><td style=\"padding:1px;\"><div style=\"display:flex; align-items:left;\">\n",
       "      <div style=\"display:flex; flex-direction:column; align-items:center;\">\n",
       "      <div>breakout</div><div><img width=\"320\" height=\"320\" style=\"image-rendering:pixelated; object-fit:cover;\" src=\"data:image/gif;base64,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\"/></div></div></div></td></tr></table>"
      ],
      "text/plain": [
       "<IPython.core.display.HTML object>"
      ]
     },
     "metadata": {},
     "output_type": "display_data"
    }
   ],
   "source": [
    "import mediapy\n",
    "\n",
    "imgs = [ render(observations[0, i]) for i in range(horizon) ]\n",
    "\n",
    "\n",
    "with mediapy.set_show_save_dir(\"/tmp\"):\n",
    "    mediapy.show_videos({\"breakout\": imgs}, width=320, height=320, fps=20, codec=\"gif\")"
   ]
  },
  {
   "cell_type": "code",
   "execution_count": 9,
   "metadata": {},
   "outputs": [
    {
     "name": "stdout",
     "output_type": "stream",
     "text": [
      "(1, 128, 10, 10, 4)\n",
      "(1, 128, 1)\n",
      "(1, 128)\n"
     ]
    }
   ],
   "source": [
    "print(observations.shape)\n",
    "print(actions.shape)\n",
    "print(rewards.shape)"
   ]
  },
  {
   "cell_type": "code",
   "execution_count": 10,
   "metadata": {},
   "outputs": [],
   "source": [
    "def to_one_hot(o):\n",
    "    zero_mask = jnp.all(o == 0, axis = -1)  # shape of batch x time x 10 x 10\n",
    "    arr = jnp.zeros((o.shape[0], o.shape[1], o.shape[2], o.shape[3], o.shape[4] + 1), dtype=jnp.float32)\n",
    "    arr = arr.at[..., :4].set(o)\n",
    "    arr = arr.at[zero_mask, 4].set(1)\n",
    "    return arr"
   ]
  },
  {
   "cell_type": "code",
   "execution_count": 11,
   "metadata": {},
   "outputs": [],
   "source": [
    "o = to_one_hot(observations)[0].reshape(-1, 100, 5).transpose(1, 0, 2)\n",
    "a = actions[0]"
   ]
  },
  {
   "cell_type": "code",
   "execution_count": 12,
   "metadata": {},
   "outputs": [],
   "source": [
    "def generate_factor_list_diagonal(dim):\n",
    "    factor_list = []\n",
    "    for i in range(dim):\n",
    "        for j in range(dim):\n",
    "            factors = []\n",
    "            factors.append(i * dim + j)\n",
    "            if i > 0:\n",
    "                factors.append((i - 1) * dim + j)\n",
    "            if i < dim - 1:\n",
    "                factors.append((i + 1) * dim + j)\n",
    "            if j > 0:\n",
    "                factors.append(i * dim + j - 1)\n",
    "            if j < dim - 1:\n",
    "                factors.append(i * dim + j + 1)\n",
    "            if i > 0 and j > 0:\n",
    "                factors.append((i - 1) * dim + j - 1)\n",
    "            if i > 0 and j < dim - 1:\n",
    "                factors.append((i - 1) * dim + j + 1)\n",
    "            if i < dim - 1 and j > 0:\n",
    "                factors.append((i + 1) * dim + j - 1)\n",
    "            if i < dim - 1 and j < dim - 1:\n",
    "                factors.append((i + 1) * dim + j + 1)\n",
    "            factor_list.append(factors)\n",
    "\n",
    "    return factor_list"
   ]
  },
  {
   "cell_type": "code",
   "execution_count": 13,
   "metadata": {},
   "outputs": [],
   "source": [
    "from itertools import product\n",
    "\n",
    "def generate_policies(time_horizon, n_actions, n_modalities):\n",
    "    # Generate policies that are the same action for each modality!\n",
    "    return jnp.expand_dims(\n",
    "        jnp.array(list(product(jnp.arange(n_actions).tolist(), repeat=time_horizon))),\n",
    "        -1,\n",
    "    ).repeat(n_modalities, -1)"
   ]
  },
  {
   "cell_type": "code",
   "execution_count": 14,
   "metadata": {},
   "outputs": [],
   "source": [
    "import jax\n",
    "import jax.numpy as jnp\n",
    "from pymdp.agent import Agent\n",
    "\n",
    "dim = 10\n",
    "n_modalities = dim * dim\n",
    "n_states = 5\n",
    "n_batch = 1\n",
    "n_actions = 3\n",
    "\n",
    "A_dependencies = [[i] for i in range(n_modalities)]\n",
    "B_dependencies = generate_factor_list_diagonal(dim)\n",
    "\n",
    "A = [jnp.expand_dims(jnp.eye(n_states), 0).repeat(n_batch, 0)for _ in range(n_modalities)]\n",
    "\n",
    "B_shapes = []\n",
    "for i in range(n_modalities):\n",
    "    n_states_dims = len(B_dependencies[i]) + 1\n",
    "    B_shapes.append([n_batch] + [n_states] * n_states_dims + [n_actions])\n",
    "B = [\n",
    "    jnp.ones(B_shapes[i]) / B_shapes[i][1]\n",
    "    for i in range(n_modalities)\n",
    "]\n",
    "\n",
    "pA = None\n",
    "pB = jax.tree_util.tree_map(lambda x: jnp.ones_like(x) / x.shape[1], B)\n",
    "\n",
    "D = [jnp.ones((n_batch, n_states)) / n_states for _ in range(n_modalities)]\n",
    "\n",
    "policies = generate_policies(1, n_actions, n_modalities)\n",
    "\n",
    "agent = Agent(\n",
    "    A=A,\n",
    "    B=B,\n",
    "    C=D,\n",
    "    D=D,\n",
    "    E=None,\n",
    "    pA=pA,\n",
    "    pB=pB,\n",
    "    A_dependencies=A_dependencies,\n",
    "    B_dependencies=B_dependencies,\n",
    "    onehot_obs=True,\n",
    "    action_selection=\"deterministic\",\n",
    "    sampling_mode=\"full\",\n",
    "    inference_algo=\"mmp\",\n",
    "    learn_A=False,\n",
    "    num_iter=16,\n",
    "    policies=policies,\n",
    "    policy_len=1,\n",
    "    apply_batch=False,\n",
    ")"
   ]
  },
  {
   "cell_type": "code",
   "execution_count": 15,
   "metadata": {},
   "outputs": [],
   "source": [
    "from pymdp.maths import multidimensional_outer\n",
    "\n",
    "@jax.vmap\n",
    "def count(*args):\n",
    "    \"\"\"\n",
    "    Double vmapped counting method, i.e. args and a have to be of shape\n",
    "    (n_batch, n_time, state_dim)\n",
    "\n",
    "    can be arbitrary many: [state_i, state_dep..., action]\n",
    "     but for this case it would be [s1, s0, a]\n",
    "\n",
    "    \"\"\"\n",
    "    return jax.vmap(multidimensional_outer)(args)\n",
    "\n",
    "\n",
    "def update_B(qB, cats, actions, B_dependencies, lr_pB=1.0):\n",
    "    a = jax.nn.one_hot(actions, num_classes=env.action_space.n)\n",
    "    # split in previous (t=0) states (s0) and current (t=1) states (s1)\n",
    "    # with a being the action at t=0 to go from s0 -> s1\n",
    "\n",
    "    s0 = jtu.tree_map(lambda x: x[:, :-1], cats)\n",
    "    s1 = jtu.tree_map(lambda x: x[:, 1:], cats)\n",
    "\n",
    "    for f in range(len(qB)):\n",
    "        deps = [s0[fi] for fi in B_dependencies[f]]\n",
    "        dfdb = count(s1[f], *deps, a).sum(axis=[0, 1])\n",
    "        qB[f] = qB[f] + lr_pB * jnp.expand_dims(dfdb, 0)\n",
    "\n",
    "    E_qB = [b / b.sum(axis=1, keepdims=True) for b in qB]\n",
    "    return qB, E_qB"
   ]
  },
  {
   "cell_type": "code",
   "execution_count": 16,
   "metadata": {},
   "outputs": [],
   "source": [
    "outcomes = [jnp.expand_dims(obs, 0) for obs in o]"
   ]
  },
  {
   "cell_type": "code",
   "execution_count": 17,
   "metadata": {},
   "outputs": [
    {
     "data": {
      "text/plain": [
       "(1, 128, 5)"
      ]
     },
     "execution_count": 17,
     "metadata": {},
     "output_type": "execute_result"
    }
   ],
   "source": [
    "outcomes[0].shape"
   ]
  },
  {
   "cell_type": "code",
   "execution_count": 18,
   "metadata": {},
   "outputs": [],
   "source": [
    "# convert to one-hot actions and remove final action \n",
    "acts = jnp.expand_dims(a.squeeze(-1)[:actions.shape[1]-1], 0)"
   ]
  },
  {
   "cell_type": "code",
   "execution_count": 19,
   "metadata": {},
   "outputs": [
    {
     "data": {
      "text/plain": [
       "(1, 127)"
      ]
     },
     "execution_count": 19,
     "metadata": {},
     "output_type": "execute_result"
    }
   ],
   "source": [
    "acts.shape"
   ]
  },
  {
   "cell_type": "code",
   "execution_count": 20,
   "metadata": {},
   "outputs": [
    {
     "name": "stdout",
     "output_type": "stream",
     "text": [
      "[[2 1 1 2 1 1 1 0 0 2 0 0 1 2 1 2 0 0 2 0 0 1 1 1 2 2 2 1 0 1 0 1 1 0 1 2\n",
      "  2 0 1 2 0 0 1 0 1 2 2 2 1 0 1 1 0 0 2 0 1 1 0 2 2 2 0 2 2 1 2 1 0 1 0 1\n",
      "  0 2 0 0 0 0 0 2 2 0 1 1 0 2 0 0 0 2 2 0 1 0 2 1 0 1 0 0 0 2 1 2 2 1 1 0\n",
      "  2 2 2 0 1 1 0 1 2 1 2 2 1 2 0 0 2 2 0]]\n"
     ]
    }
   ],
   "source": [
    "print(acts)"
   ]
  },
  {
   "cell_type": "code",
   "execution_count": 21,
   "metadata": {},
   "outputs": [],
   "source": [
    "qB, E_qB = update_B(agent.pB, outcomes, acts, B_dependencies)"
   ]
  },
  {
   "cell_type": "code",
   "execution_count": 22,
   "metadata": {},
   "outputs": [],
   "source": [
    "import equinox as eqx\n",
    "\n",
    "agent = eqx.tree_at(lambda x: x.pB, agent, qB)\n",
    "agent = eqx.tree_at(lambda x: x.B, agent, E_qB)"
   ]
  },
  {
   "cell_type": "code",
   "execution_count": 23,
   "metadata": {},
   "outputs": [],
   "source": [
    "o_t = jtu.tree_map(lambda x: jnp.expand_dims(x[:, 1, :], 1), outcomes)"
   ]
  },
  {
   "cell_type": "code",
   "execution_count": 24,
   "metadata": {},
   "outputs": [],
   "source": [
    "qs = agent.infer_states(o_t, agent.D)"
   ]
  },
  {
   "cell_type": "code",
   "execution_count": 25,
   "metadata": {},
   "outputs": [
    {
     "data": {
      "text/plain": [
       "(1, 1, 5)"
      ]
     },
     "execution_count": 25,
     "metadata": {},
     "output_type": "execute_result"
    }
   ],
   "source": [
    "qs[0].shape"
   ]
  },
  {
   "cell_type": "code",
   "execution_count": 26,
   "metadata": {},
   "outputs": [
    {
     "data": {
      "text/plain": [
       "<matplotlib.image.AxesImage at 0x7f35e871dc90>"
      ]
     },
     "execution_count": 26,
     "metadata": {},
     "output_type": "execute_result"
    },
    {
     "data": {
      "image/png": "[encoded data removed]",
      "text/plain": [
       "<Figure size 640x480 with 1 Axes>"
      ]
     },
     "metadata": {},
     "output_type": "display_data"
    }
   ],
   "source": [
    "import matplotlib.pyplot as plt\n",
    "init = jnp.asarray(qs)[:, 0, 0, :].reshape(10, 10, 5)[:, :, :4]\n",
    "plt.imshow(render(init))"
   ]
  },
  {
   "cell_type": "code",
   "execution_count": 27,
   "metadata": {},
   "outputs": [],
   "source": [
    "from jax import vmap\n",
    "import jax.tree_util as jtu\n",
    "from functools import partial\n",
    "import pymdp.control as control\n",
    "\n",
    "\n",
    "def predict(agent, qs, action, n_steps=1):\n",
    "    qs_pred = []\n",
    "    qs_last = jtu.tree_map(lambda x: x[:, -1], qs)\n",
    "\n",
    "    for _ in range(n_steps):\n",
    "        propagate_beliefs = partial(\n",
    "            control.compute_expected_state,\n",
    "            B_dependencies=agent.B_dependencies,\n",
    "        )\n",
    "        qs_next = vmap(propagate_beliefs)(qs_last, agent.B, action)\n",
    "        qs_pred.append(qs_next)\n",
    "        qs_last = qs_next\n",
    "\n",
    "    return jnp.asarray(qs_pred)"
   ]
  },
  {
   "cell_type": "code",
   "execution_count": 28,
   "metadata": {},
   "outputs": [],
   "source": [
    "act = policies[0]"
   ]
  },
  {
   "cell_type": "code",
   "execution_count": 29,
   "metadata": {},
   "outputs": [],
   "source": [
    "qs_next = predict(agent, qs, policies[0], 2)"
   ]
  },
  {
   "cell_type": "code",
   "execution_count": 30,
   "metadata": {},
   "outputs": [
    {
     "data": {
      "text/html": [
       "<table class=\"show_videos\" style=\"border-spacing:0px;\"><tr><td style=\"padding:1px;\"><div style=\"display:flex; align-items:left;\">\n",
       "      <div style=\"display:flex; flex-direction:column; align-items:center;\">\n",
       "      <div>noop</div><div><img width=\"320\" height=\"320\" style=\"image-rendering:pixelated; object-fit:cover;\" src=\"data:image/gif;base64,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\"/></div></div></div></td></tr></table>"
      ],
      "text/plain": [
       "<IPython.core.display.HTML object>"
      ]
     },
     "metadata": {},
     "output_type": "display_data"
    }
   ],
   "source": [
    "imgs = [render(init)]\n",
    "for i in range(qs_next.shape[0]):\n",
    "    nxt = jnp.asarray(qs_next)[i, :, 0, :].reshape(10, 10, 5)[:, :, :4]\n",
    "    imgs.append(render(nxt))\n",
    "\n",
    "from PIL import Image\n",
    "resize = lambda x: jnp.array(Image.fromarray((x * 255).astype(jnp.uint8)).resize((256, 256), Image.NEAREST))\n",
    "big = [resize(img) for img in imgs]\n",
    "\n",
    "with mediapy.set_show_save_dir(\"/tmp\"):\n",
    "    mediapy.show_videos({\"noop\": big}, width=320, height=320, fps=2, codec=\"gif\")"
   ]
  },
  {
   "cell_type": "code",
   "execution_count": 31,
   "metadata": {},
   "outputs": [
    {
     "data": {
      "text/html": [
       "<table class=\"show_videos\" style=\"border-spacing:0px;\"><tr><td style=\"padding:1px;\"><div style=\"display:flex; align-items:left;\">\n",
       "      <div style=\"display:flex; flex-direction:column; align-items:center;\">\n",
       "      <div>left</div><div><img width=\"320\" height=\"320\" style=\"image-rendering:pixelated; object-fit:cover;\" src=\"data:image/gif;base64,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\"/></div></div></div></td></tr></table>"
      ],
      "text/plain": [
       "<IPython.core.display.HTML object>"
      ]
     },
     "metadata": {},
     "output_type": "display_data"
    }
   ],
   "source": [
    "qs_next = predict(agent, qs, policies[1], 2)\n",
    "imgs = [render(init)]\n",
    "for i in range(qs_next.shape[0]):\n",
    "    nxt = jnp.asarray(qs_next)[i, :, 0, :].reshape(10, 10, 5)[:, :, :4]\n",
    "    imgs.append(render(nxt))\n",
    "\n",
    "from PIL import Image\n",
    "\n",
    "resize = lambda x: jnp.array(Image.fromarray((x * 255).astype(jnp.uint8)).resize((256, 256), Image.NEAREST))\n",
    "big = [resize(img) for img in imgs]\n",
    "\n",
    "with mediapy.set_show_save_dir(\"/tmp\"):\n",
    "    mediapy.show_videos({\"left\": big}, width=320, height=320, fps=2, codec=\"gif\")"
   ]
  },
  {
   "cell_type": "code",
   "execution_count": 32,
   "metadata": {},
   "outputs": [
    {
     "data": {
      "text/html": [
       "<table class=\"show_videos\" style=\"border-spacing:0px;\"><tr><td style=\"padding:1px;\"><div style=\"display:flex; align-items:left;\">\n",
       "      <div style=\"display:flex; flex-direction:column; align-items:center;\">\n",
       "      <div>right</div><div><img width=\"320\" height=\"320\" style=\"image-rendering:pixelated; object-fit:cover;\" src=\"data:image/gif;base64,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\"/></div></div></div></td></tr></table>"
      ],
      "text/plain": [
       "<IPython.core.display.HTML object>"
      ]
     },
     "metadata": {},
     "output_type": "display_data"
    }
   ],
   "source": [
    "qs_next = predict(agent, qs, policies[2], 2)\n",
    "imgs = [render(init)]\n",
    "for i in range(qs_next.shape[0]):\n",
    "    nxt = jnp.asarray(qs_next)[i, :, 0, :].reshape(10, 10, 5)[:, :, :4]\n",
    "    imgs.append(render(nxt))\n",
    "\n",
    "from PIL import Image\n",
    "\n",
    "resize = lambda x: jnp.array(Image.fromarray((x * 255).astype(jnp.uint8)).resize((256, 256), Image.NEAREST))\n",
    "big = [resize(img) for img in imgs]\n",
    "\n",
    "with mediapy.set_show_save_dir(\"/tmp\"):\n",
    "    mediapy.show_videos({\"right\": big}, width=320, height=320, fps=2, codec=\"gif\")"
   ]
  },
  {
   "cell_type": "code",
   "execution_count": null,
   "metadata": {},
   "outputs": [],
   "source": []
  }
 ],
 "metadata": {
  "kernelspec": {
   "display_name": ".venv",
   "language": "python",
   "name": "python3"
  },
  "language_info": {
   "codemirror_mode": {
    "name": "ipython",
    "version": 3
   },
   "file_extension": ".py",
   "mimetype": "text/x-python",
   "name": "python",
   "nbconvert_exporter": "python",
   "pygments_lexer": "ipython3",
   "version": "3.11.8"
  }
 },
 "nbformat": 4,
 "nbformat_minor": 2
}

{
 "cells": [
  {
   "cell_type": "code",
   "execution_count": 1,
   "metadata": {},
   "outputs": [],
   "source": [
    "%load_ext autoreload\n",
    "%autoreload 2"
   ]
  },
  {
   "cell_type": "code",
   "execution_count": 2,
   "metadata": {},
   "outputs": [
    {
     "name": "stderr",
     "output_type": "stream",
     "text": [
      "An NVIDIA GPU may be present on this machine, but a CUDA-enabled jaxlib is not installed. Falling back to cpu.\n"
     ]
    }
   ],
   "source": [
    "import jax\n",
    "import jax.numpy as jnp\n",
    "from jax import random as jr\n",
    "\n",
    "key = jr.PRNGKey(0)"
   ]
  },
  {
   "cell_type": "code",
   "execution_count": 3,
   "metadata": {},
   "outputs": [],
   "source": [
    "from rgm.envs.pong import Pong\n",
    "\n",
    "env = Pong()"
   ]
  },
  {
   "cell_type": "markdown",
   "metadata": {},
   "source": [
    "Generate random play and stitch \"rewarding\" sequences together using Karl's \"Maxwell's daemon\" approach:"
   ]
  },
  {
   "cell_type": "code",
   "execution_count": 4,
   "metadata": {},
   "outputs": [
    {
     "name": "stderr",
     "output_type": "stream",
     "text": [
      "100%|██████████| 128/128 [01:34<00:00,  1.36it/s]"
     ]
    },
    {
     "name": "stdout",
     "output_type": "stream",
     "text": [
      "[0. 0. 0. 0. 0. 0. 0. 0. 0. 0. 0. 0. 0. 0. 0. 0. 0. 0. 0. 0. 0. 0. 0. 0.\n",
      " 0. 0. 0. 0. 0. 0. 0. 0. 0. 0. 0. 0. 0. 0. 0. 0. 0. 0. 0. 0. 0. 0. 0. 0.\n",
      " 0. 0. 0. 0. 0. 0. 0. 0. 0. 0. 0. 0. 0. 0. 0. 0. 0.]\n"
     ]
    },
    {
     "name": "stderr",
     "output_type": "stream",
     "text": [
      "\n"
     ]
    }
   ],
   "source": [
    "from tqdm import tqdm\n",
    "\n",
    "observations = []\n",
    "actions = []\n",
    "rewards = []\n",
    "\n",
    "start_state = None\n",
    "\n",
    "num_episodes = 128\n",
    "horizon = 64\n",
    "\n",
    "for n in tqdm(range(num_episodes)):\n",
    "    acs = []\n",
    "    os = []\n",
    "    rs = []\n",
    "    ims = []\n",
    "\n",
    "    keys = jr.split(key, 2)\n",
    "    key = keys[0]\n",
    "\n",
    "    o, env = env.reset(keys[1:], state=start_state)\n",
    "    os.append(jnp.asarray(o[:-1]))\n",
    "    reward = o[-1]\n",
    "    rs.append(reward)\n",
    "\n",
    "    for i in range(horizon):\n",
    "        keys = jr.split(key, 3)\n",
    "        key = keys[0]\n",
    "        a = jr.randint(keys[1], (1,), 0, 3)\n",
    "        a = jnp.array([[0, a[0]]])\n",
    "        acs.append(a)\n",
    "        o, env = env.step(rng_key=keys[2:], actions = a)\n",
    "        # split o into observation and reward\n",
    "        obs = jnp.asarray(o[:-1])\n",
    "        reward = o[-1]\n",
    "\n",
    "        if reward[0, 0] != 0:\n",
    "            # if reward is 1, save sequence, record start state and break\n",
    "            if reward[0, 0] == 1:\n",
    "                start_state = env.state\n",
    "                actions += acs\n",
    "                observations += os\n",
    "                rewards += rs\n",
    "\n",
    "            break\n",
    "\n",
    "        os.append(obs)\n",
    "        rs.append(reward)\n",
    "\n",
    "actions = jnp.concatenate(actions, axis=0)\n",
    "observations = jnp.concatenate(observations, axis=1)\n",
    "rewards = jnp.concatenate(rewards, axis=1).squeeze(0)\n",
    "print(rewards)"
   ]
  },
  {
   "cell_type": "markdown",
   "metadata": {},
   "source": [
    "Fraction of the data kept as training data:"
   ]
  },
  {
   "cell_type": "code",
   "execution_count": 5,
   "metadata": {},
   "outputs": [
    {
     "name": "stdout",
     "output_type": "stream",
     "text": [
      "0.0079345703125\n"
     ]
    }
   ],
   "source": [
    "print(len(rewards) / (num_episodes * horizon))"
   ]
  },
  {
   "cell_type": "code",
   "execution_count": 6,
   "metadata": {},
   "outputs": [],
   "source": [
    "data = {}\n",
    "data[\"observations\"] = observations\n",
    "data[\"rewards\"] = rewards\n",
    "data[\"actions\"] = actions\n",
    "jnp.savez(\"../data/pong.npz\", **data)"
   ]
  },
  {
   "cell_type": "code",
   "execution_count": 7,
   "metadata": {},
   "outputs": [],
   "source": [
    "# data = jnp.load(\"data/pong.npz\")\n",
    "# observations = jnp.asarray(data[\"observations\"])\n",
    "# rewards = jnp.asarray(data[\"rewards\"])"
   ]
  },
  {
   "cell_type": "code",
   "execution_count": 8,
   "metadata": {},
   "outputs": [
    {
     "data": {
      "text/html": [
       "<table class=\"show_videos\" style=\"border-spacing:0px;\"><tr><td style=\"padding:1px;\"><div style=\"display:flex; align-items:left;\">\n",
       "      <div style=\"display:flex; flex-direction:column; align-items:center;\">\n",
       "      <div>pong</div><div><img width=\"180\" height=\"240\" style=\"image-rendering:pixelated; object-fit:cover;\" src=\"data:image/gif;base64,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\"/></div></div></div></td></tr></table>"
      ],
      "text/plain": [
       "<IPython.core.display.HTML object>"
      ]
     },
     "metadata": {},
     "output_type": "display_data"
    }
   ],
   "source": [
    "import mediapy\n",
    "from rgm.envs.pong import obs2img\n",
    "\n",
    "# TODO should be vmapped\n",
    "imgs = [obs2img(observations, 12, 9, i) for i in range(observations.shape[1])]\n",
    "with mediapy.set_show_save_dir(\"/tmp\"):\n",
    "    mediapy.show_videos({\"pong\": imgs}, width=180, height=240, fps=10, codec=\"gif\")"
   ]
  },
  {
   "cell_type": "code",
   "execution_count": 9,
   "metadata": {},
   "outputs": [
    {
     "name": "stdout",
     "output_type": "stream",
     "text": [
      "(108, 65, 1)\n",
      "(65, 2)\n"
     ]
    }
   ],
   "source": [
    "print(observations.shape)\n",
    "print(actions.shape)"
   ]
  },
  {
   "cell_type": "code",
   "execution_count": 10,
   "metadata": {},
   "outputs": [],
   "source": [
    "from rgm.fast_structure_learning import *\n",
    "from rgm.rgm import *"
   ]
  },
  {
   "cell_type": "code",
   "execution_count": 11,
   "metadata": {},
   "outputs": [],
   "source": [
    "rgm = RGM(max_levels=8, n_bins=5, dx=3, size=(12,9), action_range=(0, 4), svd=False)"
   ]
  },
  {
   "cell_type": "code",
   "execution_count": 12,
   "metadata": {},
   "outputs": [
    {
     "name": "stdout",
     "output_type": "stream",
     "text": [
      "structure learn level 0 group 0 time 2.5012364387512207\n",
      "structure learn level 0 group 1 time 0.9617540836334229\n",
      "structure learn level 0 group 2 time 0.6817452907562256\n",
      "structure learn level 0 group 3 time 0.8439693450927734\n",
      "structure learn level 0 group 4 time 0.07053422927856445\n",
      "structure learn level 0 group 5 time 0.08694243431091309\n",
      "structure learn level 0 group 6 time 0.06847572326660156\n",
      "structure learn level 0 group 7 time 0.15839076042175293\n",
      "structure learn level 0 group 8 time 0.07990074157714844\n",
      "structure learn level 0 group 9 time 0.09043288230895996\n",
      "structure learn level 0 group 10 time 0.07900238037109375\n",
      "structure learn level 0 group 11 time 0.08293867111206055\n",
      "structure learn level 1 group 0 time 0.9294495582580566\n",
      "structure learn level 1 group 1 time 0.4440317153930664\n",
      "structure learn level 2 group 0 time 0.7982876300811768\n"
     ]
    }
   ],
   "source": [
    "rgm.learn_structure(observations, actions)"
   ]
  },
  {
   "cell_type": "code",
   "execution_count": 13,
   "metadata": {},
   "outputs": [],
   "source": [
    "rgm.save(\"../data/rgms/karl_pong_rgm.npz\")"
   ]
  },
  {
   "cell_type": "code",
   "execution_count": 14,
   "metadata": {},
   "outputs": [],
   "source": [
    "qs = rgm.infer_states(observations[:, :4, :], actions[:4], None)"
   ]
  },
  {
   "cell_type": "code",
   "execution_count": 15,
   "metadata": {},
   "outputs": [],
   "source": [
    "r, u = rgm.reconstruct(qs)"
   ]
  },
  {
   "cell_type": "code",
   "execution_count": 16,
   "metadata": {},
   "outputs": [
    {
     "data": {
      "text/plain": [
       "Array([0., 1., 2., 3., 4.], dtype=float32)"
      ]
     },
     "execution_count": 16,
     "metadata": {},
     "output_type": "execute_result"
    }
   ],
   "source": [
    "rgm.action_bins"
   ]
  },
  {
   "cell_type": "code",
   "execution_count": 17,
   "metadata": {},
   "outputs": [
    {
     "name": "stdout",
     "output_type": "stream",
     "text": [
      "[[0.0000000e+00 1.9989027e+00]\n",
      " [0.0000000e+00 4.8774609e-04]\n",
      " [0.0000000e+00 1.0974287e-03]\n",
      " [0.0000000e+00 2.4387304e-04]]\n",
      "[[0 2]\n",
      " [0 0]\n",
      " [0 0]\n",
      " [0 0]]\n"
     ]
    }
   ],
   "source": [
    "print(u)\n",
    "print(actions[:4])"
   ]
  },
  {
   "cell_type": "code",
   "execution_count": 18,
   "metadata": {},
   "outputs": [
    {
     "data": {
      "text/html": [
       "<table class=\"show_videos\" style=\"border-spacing:0px;\"><tr><td style=\"padding:1px;\"><div style=\"display:flex; align-items:left;\">\n",
       "      <div style=\"display:flex; flex-direction:column; align-items:center;\">\n",
       "      <div>reconstruction</div><div><img width=\"180\" height=\"240\" style=\"image-rendering:pixelated; object-fit:cover;\" src=\"data:image/gif;base64,R0lGODlhCQAMAPcBAAAAAAD/AEBAQICAgMDAwP///////////////////////////////////////////////////////////////////////////////////////////////////////////////////////////////////////////////////////////////////////////////////////////////////////////////////////////////////////////////////////////////////////////////////////////////////////////////////////////////////////////////////////////////////////////////////////////////////////////////////////////////////////////////////////////////////////////////////////////////////////////////////////////////////////////////////////////////////////////////////////////////////////////////////////////////////////////////////////////////////////////////////////////////////////////////////////////////////////////////////////////////////////////////////////////////////////////////////////////////////////////////////////////////////////////////////////////////////////////////////////////////////////////////////////////////////////////////////////////////////////////////////////////////////////////yH/C05FVFNDQVBFMi4wAwEAAAAh+QQFMgABACwAAAAACQAMAIIAAAAA/wBAQECAgIDAwMD///////////8IFwAHEChAsKDBgwUBIFzIsKHDhxAjPgwIACH5BAUyAAEALAIAAgACAAIAAAgHAAsECAAgIAAh+QQFMgABACwAAAAABQAFAAAIDwAFDCAQoKDBgwgLIAQQEAAh+QQFMgABACwAAAAABgAGAAAIEwALCBhAIIDBgwgTKjxYQCGAgAAAOw==\"/></div></div></div></td></tr></table>"
      ],
      "text/plain": [
       "<IPython.core.display.HTML object>"
      ]
     },
     "metadata": {},
     "output_type": "display_data"
    }
   ],
   "source": [
    "imgs = [obs2img(jnp.argmax(r, axis=-1, keepdims=True), 12, 9, i) for i in range(r.shape[1])]\n",
    "with mediapy.set_show_save_dir(\"/tmp\"):\n",
    "    mediapy.show_videos({\"reconstruction\": imgs}, width=180, height=240, fps=2, codec=\"gif\")"
   ]
  },
  {
   "cell_type": "code",
   "execution_count": 32,
   "metadata": {},
   "outputs": [],
   "source": [
    "from tqdm import tqdm\n",
    "\n",
    "observations = []\n",
    "\n",
    "T = 200\n",
    "\n",
    "agent = RGMAgent(rgm)\n",
    "\n",
    "keys = jr.split(key, 2)\n",
    "key = keys[0]\n",
    "o, env = env.reset(keys[1:])\n",
    "for i in tqdm(range(T)):\n",
    "    keys = jr.split(key, 2)\n",
    "    key = keys[0]\n",
    "\n",
    "    obs = jnp.asarray(o[:-1])\n",
    "    reward = o[-1]\n",
    "    observations.append(obs)\n",
    "\n",
    "    a = agent.act(obs)\n",
    "    a = jnp.expand_dims(a, axis=0)\n",
    "    o, env = env.step(rng_key=keys[1:], actions=a)\n",
    "\n",
    "observations = jnp.concatenate(observations, axis=1)"
   ]
  },
  {
   "cell_type": "code",
   "execution_count": 33,
   "metadata": {},
   "outputs": [
    {
     "data": {
      "text/html": [
       "<table class=\"show_videos\" style=\"border-spacing:0px;\"><tr><td style=\"padding:1px;\"><div style=\"display:flex; align-items:left;\">\n",
       "      <div style=\"display:flex; flex-direction:column; align-items:center;\">\n",
       "      <div>play</div><div><img width=\"180\" height=\"240\" style=\"image-rendering:pixelated; object-fit:cover;\" src=\"data:image/gif;base64,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\"/></div></div></div></td></tr></table>"
      ],
      "text/plain": [
       "<IPython.core.display.HTML object>"
      ]
     },
     "metadata": {},
     "output_type": "display_data"
    }
   ],
   "source": [
    "imgs = [obs2img(observations, 12, 9, i) for i in range(observations.shape[1])]\n",
    "with mediapy.set_show_save_dir(\"/tmp\"):\n",
    "    mediapy.show_videos({\"play\": imgs}, width=180, height=240, fps=10, codec=\"gif\")"
   ]
  },
  {
   "cell_type": "code",
   "execution_count": null,
   "metadata": {},
   "outputs": [],
   "source": []
  }
 ],
 "metadata": {
  "kernelspec": {
   "display_name": ".venv",
   "language": "python",
   "name": "python3"
  },
  "language_info": {
   "codemirror_mode": {
    "name": "ipython",
    "version": 3
   },
   "file_extension": ".py",
   "mimetype": "text/x-python",
   "name": "python",
   "nbconvert_exporter": "python",
   "pygments_lexer": "ipython3",
   "version": "3.11.8"
  }
 },
 "nbformat": 4,
 "nbformat_minor": 2
}
